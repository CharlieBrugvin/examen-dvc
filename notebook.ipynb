{
 "cells": [
  {
   "cell_type": "code",
   "execution_count": null,
   "metadata": {},
   "outputs": [],
   "source": [
    "import pandas as pd\n",
    "import numpy as np\n",
    "import matplotlib.pyplot as plt\n",
    "from sklearn.model_selection import train_test_split\n",
    "import seaborn as sns\n",
    "from pathlib import Path\n",
    "import logging\n",
    "from sklearn.preprocessing import StandardScaler\n",
    "import pickle"
   ]
  },
  {
   "cell_type": "code",
   "execution_count": 2,
   "metadata": {},
   "outputs": [],
   "source": [
    "logging.basicConfig(level=logging.INFO)"
   ]
  },
  {
   "cell_type": "markdown",
   "metadata": {},
   "source": [
    "## Data Split"
   ]
  },
  {
   "cell_type": "markdown",
   "metadata": {},
   "source": [
    "Split des données en ensemble d'entraînement et de test.\n",
    "\n",
    "Notre variable cible est silica_concentrate et se trouve dans la dernière colonne du dataset.\n",
    "\n",
    "L'issu de ce script seront 4 datasets (X_test, X_train, y_test, y_train) que vous pouvez stocker dans data/processed."
   ]
  },
  {
   "cell_type": "code",
   "execution_count": 4,
   "metadata": {},
   "outputs": [],
   "source": [
    "INPUT_DATA_PATH = Path('data/raw_data/raw.csv')\n",
    "OUTPUT_FOLDER = Path(\"data/processed_data\")"
   ]
  },
  {
   "cell_type": "code",
   "execution_count": 5,
   "metadata": {},
   "outputs": [
    {
     "name": "stderr",
     "output_type": "stream",
     "text": [
      "INFO:root:Reading data from 'data/raw_data/raw.csv'\n"
     ]
    }
   ],
   "source": [
    "logging.info(\"Reading data from '%s'\", INPUT_DATA_PATH)\n",
    "df = pd.read_csv(INPUT_DATA_PATH)"
   ]
  },
  {
   "cell_type": "code",
   "execution_count": 9,
   "metadata": {},
   "outputs": [
    {
     "name": "stderr",
     "output_type": "stream",
     "text": [
      "INFO:root:Getting X & y datasets\n"
     ]
    }
   ],
   "source": [
    "logging.info(\"Getting X & y datasets\")\n",
    "X = df[[\n",
    "    'ave_flot_air_flow', \n",
    "    'ave_flot_level', \n",
    "    'iron_feed',\n",
    "    'starch_flow',\n",
    "    'amina_flow',\n",
    "    'ore_pulp_flow',\n",
    "    'ore_pulp_pH',\n",
    "    'ore_pulp_density',\n",
    "]].values\n",
    "\n",
    "y = df['silica_concentrate'].values"
   ]
  },
  {
   "cell_type": "code",
   "execution_count": 10,
   "metadata": {},
   "outputs": [
    {
     "name": "stderr",
     "output_type": "stream",
     "text": [
      "INFO:root:Splitting into a train & test set\n"
     ]
    }
   ],
   "source": [
    "logging.info(\"Splitting into a train & test set\")\n",
    "X_train, X_test, y_train, y_test = train_test_split(X, y, test_size=0.2, random_state=42)"
   ]
  },
  {
   "cell_type": "code",
   "execution_count": 19,
   "metadata": {},
   "outputs": [
    {
     "name": "stderr",
     "output_type": "stream",
     "text": [
      "INFO:root:Shapes: X_train=(1453, 8) X_test=(364, 8) y_train=(1453,) y_test=(364,)\n"
     ]
    }
   ],
   "source": [
    "logging.info(\"Shapes: X_train=%s X_test=%s y_train=%s y_test=%s\", \n",
    "             X_train.shape, X_test.shape, y_train.shape, y_test.shape)"
   ]
  },
  {
   "cell_type": "code",
   "execution_count": 21,
   "metadata": {},
   "outputs": [
    {
     "name": "stderr",
     "output_type": "stream",
     "text": [
      "INFO:root:Saving the 4 subsets into : 'data/processed_data'\n"
     ]
    }
   ],
   "source": [
    "# save\n",
    "logging.info(\"Saving the 4 subsets into : '%s'\", OUTPUT_FOLDER)\n",
    "np.save(OUTPUT_FOLDER / \"X_train\", X_train)\n",
    "np.save(OUTPUT_FOLDER / \"X_test\", X_test)\n",
    "np.save(OUTPUT_FOLDER / \"y_train\", y_train)\n",
    "np.save(OUTPUT_FOLDER / \"y_test\", y_test)"
   ]
  },
  {
   "cell_type": "markdown",
   "metadata": {},
   "source": [
    "## Data Normalization"
   ]
  },
  {
   "cell_type": "markdown",
   "metadata": {},
   "source": [
    "Normalisation des données. \n",
    "\n",
    "Comme vous pouvez le noter, les données sont dans des échelles très variés donc une normalisation est nécessaire.\n",
    "\n",
    " Vous pouvez utiliser des fonctions pré-existantes pour la construction de ce script. \n",
    " \n",
    " En sortie, ce script créera deux nouveaux datasets : (X_train_scaled, X_test_scaled) que vous sauvegarderez également dans data/processed."
   ]
  },
  {
   "cell_type": "code",
   "execution_count": 109,
   "metadata": {},
   "outputs": [],
   "source": [
    "INPUT_FOLDER = Path(\"data/processed_data\")\n",
    "OUTPUT_FOLDER = Path(\"data/processed_data\")"
   ]
  },
  {
   "cell_type": "code",
   "execution_count": 112,
   "metadata": {},
   "outputs": [
    {
     "name": "stderr",
     "output_type": "stream",
     "text": [
      "INFO:root:Loading the 4 subsets from : 'data/processed_data'\n",
      "INFO:root:Shapes: X_train=(1453, 8) X_test=(364, 8) y_train=(1453,) y_test=(364,)\n"
     ]
    }
   ],
   "source": [
    "logging.info(\"Loading the 4 subsets from : '%s'\", INPUT_FOLDER)\n",
    "\n",
    "X_train = np.load(INPUT_FOLDER / \"X_train.npy\")\n",
    "X_test = np.load(INPUT_FOLDER / \"X_test.npy\")\n",
    "y_train = np.load(INPUT_FOLDER / \"y_train.npy\")\n",
    "y_test = np.load(INPUT_FOLDER / \"y_test.npy\")\n",
    "\n",
    "logging.info(\"Shapes: X_train=%s X_test=%s y_train=%s y_test=%s\", \n",
    "             X_train.shape, X_test.shape, y_train.shape, y_test.shape)"
   ]
  },
  {
   "cell_type": "code",
   "execution_count": 113,
   "metadata": {},
   "outputs": [
    {
     "name": "stderr",
     "output_type": "stream",
     "text": [
      "INFO:root:Fitting Standard Scaler & transforming X_train & X_test \n"
     ]
    }
   ],
   "source": [
    "logging.info(\"Fitting Standard Scaler & transforming X_train & X_test \")\n",
    "\n",
    "X_scaler = StandardScaler().fit(np.vstack([X_train, X_test]))\n",
    "\n",
    "X_train_scaled = X_scaler.transform(X_train)\n",
    "X_test_scaled = X_scaler.transform(X_test)"
   ]
  },
  {
   "cell_type": "code",
   "execution_count": 114,
   "metadata": {},
   "outputs": [
    {
     "name": "stderr",
     "output_type": "stream",
     "text": [
      "INFO:root:Saving X_train_scaled & X_test_scaled into : 'data/processed_data'\n"
     ]
    }
   ],
   "source": [
    "# save\n",
    "logging.info(\"Saving X_train_scaled & X_test_scaled into : '%s'\", OUTPUT_FOLDER)\n",
    "np.save(OUTPUT_FOLDER / \"X_train_scaled\", X_train_scaled)\n",
    "np.save(OUTPUT_FOLDER / \"X_test_scaled\", X_test_scaled)"
   ]
  },
  {
   "cell_type": "markdown",
   "metadata": {},
   "source": [
    "## Grid Search"
   ]
  },
  {
   "cell_type": "markdown",
   "metadata": {},
   "source": [
    "GridSearch des meilleurs paramètres à utiliser pour la modélisation.\n",
    "\n",
    "Vous déciderez le modèle de regression à implémenter et des paramètres à tester.\n",
    "\n",
    "À l'issue de ce script vous aurez les meilleurs paramètres sous forme de fichier .pkl que vous sauvegarderez dans le dossier models."
   ]
  },
  {
   "cell_type": "code",
   "execution_count": 115,
   "metadata": {},
   "outputs": [],
   "source": [
    "from sklearn.ensemble import RandomForestRegressor\n",
    "from sklearn.model_selection import GridSearchCV"
   ]
  },
  {
   "cell_type": "code",
   "execution_count": 128,
   "metadata": {},
   "outputs": [],
   "source": [
    "INPUT_FOLDER = Path(\"data/processed_data\")\n",
    "\n",
    "# PARAM_GRID = {\n",
    "#     'n_estimators': [100, 200, 300, 400],\n",
    "#     'max_depth': [None, 10, 20, 30, 40],\n",
    "# }\n",
    "PARAM_GRID = {\n",
    "    'n_estimators': [300],\n",
    "}\n",
    "\n",
    "OUTPUT_PARAMETERS_FILE = Path(\"models/best_parameters.pkl\")"
   ]
  },
  {
   "cell_type": "code",
   "execution_count": 118,
   "metadata": {},
   "outputs": [
    {
     "name": "stderr",
     "output_type": "stream",
     "text": [
      "INFO:root:Loading the 4 subsets from : 'data/processed_data'\n",
      "INFO:root:Shapes: X_train_scaled=(1453, 8) X_test_scaled=(364, 8) y_train=(1453,) y_test=(364,)\n"
     ]
    }
   ],
   "source": [
    "logging.info(\"Loading the 4 subsets from : '%s'\", INPUT_FOLDER)\n",
    "\n",
    "X_train_scaled = np.load(INPUT_FOLDER / \"X_train_scaled.npy\")\n",
    "X_test_scaled = np.load(INPUT_FOLDER / \"X_test_scaled.npy\")\n",
    "y_train = np.load(INPUT_FOLDER / \"y_train.npy\")\n",
    "y_test = np.load(INPUT_FOLDER / \"y_test.npy\")\n",
    "\n",
    "logging.info(\"Shapes: X_train_scaled=%s X_test_scaled=%s y_train=%s y_test=%s\", \n",
    "             X_train_scaled.shape, X_test_scaled.shape, y_train.shape, y_test.shape)"
   ]
  },
  {
   "cell_type": "code",
   "execution_count": 106,
   "metadata": {},
   "outputs": [
    {
     "name": "stderr",
     "output_type": "stream",
     "text": [
      "INFO:root:RandomForestRegression model initialisation\n",
      "INFO:root:Grid Searching over hyper-parameters\n"
     ]
    },
    {
     "name": "stdout",
     "output_type": "stream",
     "text": [
      "Fitting 5 folds for each of 1 candidates, totalling 5 fits\n",
      "[CV] END ...................................n_estimators=300; total time=   4.6s\n",
      "[CV] END ...................................n_estimators=300; total time=   4.4s\n",
      "[CV] END ...................................n_estimators=300; total time=   4.6s\n",
      "[CV] END ...................................n_estimators=300; total time=   4.7s\n",
      "[CV] END ...................................n_estimators=300; total time=   5.2s\n"
     ]
    },
    {
     "data": {
      "text/html": [
       "<style>#sk-container-id-5 {color: black;}#sk-container-id-5 pre{padding: 0;}#sk-container-id-5 div.sk-toggleable {background-color: white;}#sk-container-id-5 label.sk-toggleable__label {cursor: pointer;display: block;width: 100%;margin-bottom: 0;padding: 0.3em;box-sizing: border-box;text-align: center;}#sk-container-id-5 label.sk-toggleable__label-arrow:before {content: \"▸\";float: left;margin-right: 0.25em;color: #696969;}#sk-container-id-5 label.sk-toggleable__label-arrow:hover:before {color: black;}#sk-container-id-5 div.sk-estimator:hover label.sk-toggleable__label-arrow:before {color: black;}#sk-container-id-5 div.sk-toggleable__content {max-height: 0;max-width: 0;overflow: hidden;text-align: left;background-color: #f0f8ff;}#sk-container-id-5 div.sk-toggleable__content pre {margin: 0.2em;color: black;border-radius: 0.25em;background-color: #f0f8ff;}#sk-container-id-5 input.sk-toggleable__control:checked~div.sk-toggleable__content {max-height: 200px;max-width: 100%;overflow: auto;}#sk-container-id-5 input.sk-toggleable__control:checked~label.sk-toggleable__label-arrow:before {content: \"▾\";}#sk-container-id-5 div.sk-estimator input.sk-toggleable__control:checked~label.sk-toggleable__label {background-color: #d4ebff;}#sk-container-id-5 div.sk-label input.sk-toggleable__control:checked~label.sk-toggleable__label {background-color: #d4ebff;}#sk-container-id-5 input.sk-hidden--visually {border: 0;clip: rect(1px 1px 1px 1px);clip: rect(1px, 1px, 1px, 1px);height: 1px;margin: -1px;overflow: hidden;padding: 0;position: absolute;width: 1px;}#sk-container-id-5 div.sk-estimator {font-family: monospace;background-color: #f0f8ff;border: 1px dotted black;border-radius: 0.25em;box-sizing: border-box;margin-bottom: 0.5em;}#sk-container-id-5 div.sk-estimator:hover {background-color: #d4ebff;}#sk-container-id-5 div.sk-parallel-item::after {content: \"\";width: 100%;border-bottom: 1px solid gray;flex-grow: 1;}#sk-container-id-5 div.sk-label:hover label.sk-toggleable__label {background-color: #d4ebff;}#sk-container-id-5 div.sk-serial::before {content: \"\";position: absolute;border-left: 1px solid gray;box-sizing: border-box;top: 0;bottom: 0;left: 50%;z-index: 0;}#sk-container-id-5 div.sk-serial {display: flex;flex-direction: column;align-items: center;background-color: white;padding-right: 0.2em;padding-left: 0.2em;position: relative;}#sk-container-id-5 div.sk-item {position: relative;z-index: 1;}#sk-container-id-5 div.sk-parallel {display: flex;align-items: stretch;justify-content: center;background-color: white;position: relative;}#sk-container-id-5 div.sk-item::before, #sk-container-id-5 div.sk-parallel-item::before {content: \"\";position: absolute;border-left: 1px solid gray;box-sizing: border-box;top: 0;bottom: 0;left: 50%;z-index: -1;}#sk-container-id-5 div.sk-parallel-item {display: flex;flex-direction: column;z-index: 1;position: relative;background-color: white;}#sk-container-id-5 div.sk-parallel-item:first-child::after {align-self: flex-end;width: 50%;}#sk-container-id-5 div.sk-parallel-item:last-child::after {align-self: flex-start;width: 50%;}#sk-container-id-5 div.sk-parallel-item:only-child::after {width: 0;}#sk-container-id-5 div.sk-dashed-wrapped {border: 1px dashed gray;margin: 0 0.4em 0.5em 0.4em;box-sizing: border-box;padding-bottom: 0.4em;background-color: white;}#sk-container-id-5 div.sk-label label {font-family: monospace;font-weight: bold;display: inline-block;line-height: 1.2em;}#sk-container-id-5 div.sk-label-container {text-align: center;}#sk-container-id-5 div.sk-container {/* jupyter's `normalize.less` sets `[hidden] { display: none; }` but bootstrap.min.css set `[hidden] { display: none !important; }` so we also need the `!important` here to be able to override the default hidden behavior on the sphinx rendered scikit-learn.org. See: https://github.com/scikit-learn/scikit-learn/issues/21755 */display: inline-block !important;position: relative;}#sk-container-id-5 div.sk-text-repr-fallback {display: none;}</style><div id=\"sk-container-id-5\" class=\"sk-top-container\"><div class=\"sk-text-repr-fallback\"><pre>GridSearchCV(estimator=RandomForestRegressor(random_state=42),\n",
       "             param_grid={&#x27;n_estimators&#x27;: [300]},\n",
       "             scoring=&#x27;neg_mean_squared_error&#x27;, verbose=2)</pre><b>In a Jupyter environment, please rerun this cell to show the HTML representation or trust the notebook. <br />On GitHub, the HTML representation is unable to render, please try loading this page with nbviewer.org.</b></div><div class=\"sk-container\" hidden><div class=\"sk-item sk-dashed-wrapped\"><div class=\"sk-label-container\"><div class=\"sk-label sk-toggleable\"><input class=\"sk-toggleable__control sk-hidden--visually\" id=\"sk-estimator-id-5\" type=\"checkbox\" ><label for=\"sk-estimator-id-5\" class=\"sk-toggleable__label sk-toggleable__label-arrow\">GridSearchCV</label><div class=\"sk-toggleable__content\"><pre>GridSearchCV(estimator=RandomForestRegressor(random_state=42),\n",
       "             param_grid={&#x27;n_estimators&#x27;: [300]},\n",
       "             scoring=&#x27;neg_mean_squared_error&#x27;, verbose=2)</pre></div></div></div><div class=\"sk-parallel\"><div class=\"sk-parallel-item\"><div class=\"sk-item\"><div class=\"sk-label-container\"><div class=\"sk-label sk-toggleable\"><input class=\"sk-toggleable__control sk-hidden--visually\" id=\"sk-estimator-id-6\" type=\"checkbox\" ><label for=\"sk-estimator-id-6\" class=\"sk-toggleable__label sk-toggleable__label-arrow\">estimator: RandomForestRegressor</label><div class=\"sk-toggleable__content\"><pre>RandomForestRegressor(random_state=42)</pre></div></div></div><div class=\"sk-serial\"><div class=\"sk-item\"><div class=\"sk-estimator sk-toggleable\"><input class=\"sk-toggleable__control sk-hidden--visually\" id=\"sk-estimator-id-7\" type=\"checkbox\" ><label for=\"sk-estimator-id-7\" class=\"sk-toggleable__label sk-toggleable__label-arrow\">RandomForestRegressor</label><div class=\"sk-toggleable__content\"><pre>RandomForestRegressor(random_state=42)</pre></div></div></div></div></div></div></div></div></div></div>"
      ],
      "text/plain": [
       "GridSearchCV(estimator=RandomForestRegressor(random_state=42),\n",
       "             param_grid={'n_estimators': [300]},\n",
       "             scoring='neg_mean_squared_error', verbose=2)"
      ]
     },
     "execution_count": 106,
     "metadata": {},
     "output_type": "execute_result"
    }
   ],
   "source": [
    "logging.info(\"RandomForestRegression model initialisation\")\n",
    "rf_reg = RandomForestRegressor(random_state=42)\n",
    "\n",
    "logging.info(\"Grid Searching over hyper-parameters\")\n",
    "grid_search = GridSearchCV(\n",
    "    estimator=rf_reg,\n",
    "    param_grid=PARAM_GRID,\n",
    "    scoring='neg_mean_squared_error',\n",
    "    verbose=2\n",
    ")\n",
    "\n",
    "# Lancer le search\n",
    "grid_search.fit(X_train_scaled, y_train)"
   ]
  },
  {
   "cell_type": "code",
   "execution_count": null,
   "metadata": {},
   "outputs": [
    {
     "name": "stderr",
     "output_type": "stream",
     "text": [
      "INFO:root:Best parameters: {'n_estimators': 300}., Saving them to 'models/best_parameters.pkl'\n"
     ]
    }
   ],
   "source": [
    "logging.info(\"Best parameters: %s., Saving them to '%s'\", grid_search.best_params_, OUTPUT_FILE)\n",
    "with open(OUTPUT_PARAMETERS_FILE, \"wb\") as f:\n",
    "    pickle.dump(grid_search.best_params_, f)"
   ]
  },
  {
   "cell_type": "markdown",
   "metadata": {},
   "source": [
    "## Training"
   ]
  },
  {
   "cell_type": "markdown",
   "metadata": {},
   "source": [
    "Entraînement du modèle. En utilisant les paramètres retrouvés à travers le GridSearch, on entraînera le modèle en sauvegardant le modèle entraîné dans le dossier models."
   ]
  },
  {
   "cell_type": "code",
   "execution_count": 168,
   "metadata": {},
   "outputs": [],
   "source": [
    "INPUT_PARAMETERS_FILE = Path(\"models/best_parameters.pkl\")\n",
    "INPUT_DATA_FOLDER = Path(\"data/processed_data\")\n",
    "OUTPUT_MODEL_FILE = Path(\"models/regressor_model.pkl\")"
   ]
  },
  {
   "cell_type": "code",
   "execution_count": 172,
   "metadata": {},
   "outputs": [
    {
     "name": "stderr",
     "output_type": "stream",
     "text": [
      "INFO:root:Loading X_train_scaled & y_train from 'data/processed_data'\n"
     ]
    }
   ],
   "source": [
    "logging.info(\"Loading X_train_scaled & y_train from '%s'\", INPUT_DATA_FOLDER)\n",
    "X_train_scaled = np.load(INPUT_FOLDER / \"X_train_scaled.npy\")\n",
    "y_train = np.load(INPUT_FOLDER / \"y_train.npy\")"
   ]
  },
  {
   "cell_type": "code",
   "execution_count": 150,
   "metadata": {},
   "outputs": [
    {
     "name": "stderr",
     "output_type": "stream",
     "text": [
      "INFO:root:Loaded from 'models/best_parameters.pkl' the parameters: {'n_estimators': 300}\n"
     ]
    }
   ],
   "source": [
    "with open(INPUT_PARAMETERS_FILE, 'rb') as f:\n",
    "    best_params = pickle.load(f)\n",
    "\n",
    "logging.info(\"Loaded from '%s' the parameters: %s\", INPUT_PARAMETERS_FILE, best_params)"
   ]
  },
  {
   "cell_type": "code",
   "execution_count": 151,
   "metadata": {},
   "outputs": [],
   "source": [
    "import joblib"
   ]
  },
  {
   "cell_type": "code",
   "execution_count": 152,
   "metadata": {},
   "outputs": [
    {
     "name": "stderr",
     "output_type": "stream",
     "text": [
      "INFO:root:Training Random Forest Regressor with best parameters\n"
     ]
    },
    {
     "data": {
      "text/html": [
       "<style>#sk-container-id-9 {color: black;}#sk-container-id-9 pre{padding: 0;}#sk-container-id-9 div.sk-toggleable {background-color: white;}#sk-container-id-9 label.sk-toggleable__label {cursor: pointer;display: block;width: 100%;margin-bottom: 0;padding: 0.3em;box-sizing: border-box;text-align: center;}#sk-container-id-9 label.sk-toggleable__label-arrow:before {content: \"▸\";float: left;margin-right: 0.25em;color: #696969;}#sk-container-id-9 label.sk-toggleable__label-arrow:hover:before {color: black;}#sk-container-id-9 div.sk-estimator:hover label.sk-toggleable__label-arrow:before {color: black;}#sk-container-id-9 div.sk-toggleable__content {max-height: 0;max-width: 0;overflow: hidden;text-align: left;background-color: #f0f8ff;}#sk-container-id-9 div.sk-toggleable__content pre {margin: 0.2em;color: black;border-radius: 0.25em;background-color: #f0f8ff;}#sk-container-id-9 input.sk-toggleable__control:checked~div.sk-toggleable__content {max-height: 200px;max-width: 100%;overflow: auto;}#sk-container-id-9 input.sk-toggleable__control:checked~label.sk-toggleable__label-arrow:before {content: \"▾\";}#sk-container-id-9 div.sk-estimator input.sk-toggleable__control:checked~label.sk-toggleable__label {background-color: #d4ebff;}#sk-container-id-9 div.sk-label input.sk-toggleable__control:checked~label.sk-toggleable__label {background-color: #d4ebff;}#sk-container-id-9 input.sk-hidden--visually {border: 0;clip: rect(1px 1px 1px 1px);clip: rect(1px, 1px, 1px, 1px);height: 1px;margin: -1px;overflow: hidden;padding: 0;position: absolute;width: 1px;}#sk-container-id-9 div.sk-estimator {font-family: monospace;background-color: #f0f8ff;border: 1px dotted black;border-radius: 0.25em;box-sizing: border-box;margin-bottom: 0.5em;}#sk-container-id-9 div.sk-estimator:hover {background-color: #d4ebff;}#sk-container-id-9 div.sk-parallel-item::after {content: \"\";width: 100%;border-bottom: 1px solid gray;flex-grow: 1;}#sk-container-id-9 div.sk-label:hover label.sk-toggleable__label {background-color: #d4ebff;}#sk-container-id-9 div.sk-serial::before {content: \"\";position: absolute;border-left: 1px solid gray;box-sizing: border-box;top: 0;bottom: 0;left: 50%;z-index: 0;}#sk-container-id-9 div.sk-serial {display: flex;flex-direction: column;align-items: center;background-color: white;padding-right: 0.2em;padding-left: 0.2em;position: relative;}#sk-container-id-9 div.sk-item {position: relative;z-index: 1;}#sk-container-id-9 div.sk-parallel {display: flex;align-items: stretch;justify-content: center;background-color: white;position: relative;}#sk-container-id-9 div.sk-item::before, #sk-container-id-9 div.sk-parallel-item::before {content: \"\";position: absolute;border-left: 1px solid gray;box-sizing: border-box;top: 0;bottom: 0;left: 50%;z-index: -1;}#sk-container-id-9 div.sk-parallel-item {display: flex;flex-direction: column;z-index: 1;position: relative;background-color: white;}#sk-container-id-9 div.sk-parallel-item:first-child::after {align-self: flex-end;width: 50%;}#sk-container-id-9 div.sk-parallel-item:last-child::after {align-self: flex-start;width: 50%;}#sk-container-id-9 div.sk-parallel-item:only-child::after {width: 0;}#sk-container-id-9 div.sk-dashed-wrapped {border: 1px dashed gray;margin: 0 0.4em 0.5em 0.4em;box-sizing: border-box;padding-bottom: 0.4em;background-color: white;}#sk-container-id-9 div.sk-label label {font-family: monospace;font-weight: bold;display: inline-block;line-height: 1.2em;}#sk-container-id-9 div.sk-label-container {text-align: center;}#sk-container-id-9 div.sk-container {/* jupyter's `normalize.less` sets `[hidden] { display: none; }` but bootstrap.min.css set `[hidden] { display: none !important; }` so we also need the `!important` here to be able to override the default hidden behavior on the sphinx rendered scikit-learn.org. See: https://github.com/scikit-learn/scikit-learn/issues/21755 */display: inline-block !important;position: relative;}#sk-container-id-9 div.sk-text-repr-fallback {display: none;}</style><div id=\"sk-container-id-9\" class=\"sk-top-container\"><div class=\"sk-text-repr-fallback\"><pre>RandomForestRegressor(n_estimators=300, random_state=42)</pre><b>In a Jupyter environment, please rerun this cell to show the HTML representation or trust the notebook. <br />On GitHub, the HTML representation is unable to render, please try loading this page with nbviewer.org.</b></div><div class=\"sk-container\" hidden><div class=\"sk-item\"><div class=\"sk-estimator sk-toggleable\"><input class=\"sk-toggleable__control sk-hidden--visually\" id=\"sk-estimator-id-11\" type=\"checkbox\" checked><label for=\"sk-estimator-id-11\" class=\"sk-toggleable__label sk-toggleable__label-arrow\">RandomForestRegressor</label><div class=\"sk-toggleable__content\"><pre>RandomForestRegressor(n_estimators=300, random_state=42)</pre></div></div></div></div></div>"
      ],
      "text/plain": [
       "RandomForestRegressor(n_estimators=300, random_state=42)"
      ]
     },
     "execution_count": 152,
     "metadata": {},
     "output_type": "execute_result"
    }
   ],
   "source": [
    "logging.info(\"Training Random Forest Regressor with best parameters\")\n",
    "\n",
    "rf_reg = RandomForestRegressor(**best_params, random_state=42)\n",
    "\n",
    "rf_reg.fit(X_train_scaled, y_train)"
   ]
  },
  {
   "cell_type": "code",
   "execution_count": 161,
   "metadata": {},
   "outputs": [
    {
     "name": "stderr",
     "output_type": "stream",
     "text": [
      "INFO:root:Saving regressor to 'models/regressor_model.pkl'\n"
     ]
    }
   ],
   "source": [
    "logging.info(\"Saving regressor to '%s'\", OUTPUT_MODEL_FILE)\n",
    "joblib.dump(rf_reg, OUTPUT_MODEL_FILE);"
   ]
  },
  {
   "cell_type": "markdown",
   "metadata": {},
   "source": [
    "## Evaluation"
   ]
  },
  {
   "cell_type": "markdown",
   "metadata": {},
   "source": [
    "Evaluation du modèle. Finalement, en utilisant le modèle entraîné on évaluera ses performances et on fera des prédictions avec ce modèle de sorte qu'à la fin de ce script on aura un nouveau dataset dans data qui contiendra les predictions ainsi qu'un fichier scores.json dans le dossier metrics qui récupérera les métriques d'évaluation de notre modèle (i.e. mse, r2, etc)."
   ]
  },
  {
   "cell_type": "code",
   "execution_count": 193,
   "metadata": {},
   "outputs": [],
   "source": [
    "INPUT_DATA_FOLDER = Path(\"data/processed_data\")\n",
    "INPUT_MODEL_FILE = Path(\"models/regressor_model.pkl\")\n",
    "\n",
    "OUTPUT_DATA_FOLDER = Path(\"data/processed_data\")\n",
    "OUTPUT_METRIC_FILE = Path(\"metrics/scores.json\")"
   ]
  },
  {
   "cell_type": "code",
   "execution_count": 176,
   "metadata": {},
   "outputs": [
    {
     "name": "stderr",
     "output_type": "stream",
     "text": [
      "INFO:root:Loading X_test_scaled & y_test from 'data/processed_data'\n"
     ]
    }
   ],
   "source": [
    "logging.info(\"Loading X_test_scaled & y_test from '%s'\", INPUT_DATA_FOLDER)\n",
    "\n",
    "X_test_scaled = np.load(INPUT_FOLDER / \"X_test_scaled.npy\")\n",
    "y_test = np.load(INPUT_DATA_FOLDER / \"y_test.npy\")"
   ]
  },
  {
   "cell_type": "code",
   "execution_count": 177,
   "metadata": {},
   "outputs": [
    {
     "name": "stderr",
     "output_type": "stream",
     "text": [
      "INFO:root:Loading regressor from 'models/regressor_model.pkl'\n"
     ]
    }
   ],
   "source": [
    "logging.info(\"Loading regressor from '%s'\", INPUT_MODEL_FILE)\n",
    "rf_reg = joblib.load(INPUT_MODEL_FILE)"
   ]
  },
  {
   "cell_type": "code",
   "execution_count": 178,
   "metadata": {},
   "outputs": [
    {
     "name": "stderr",
     "output_type": "stream",
     "text": [
      "INFO:root:Predicting on X_test_scaled\n"
     ]
    }
   ],
   "source": [
    "logging.info(\"Predicting on X_test_scaled\")\n",
    "y_test_pred = rf_reg.predict(X_test_scaled)"
   ]
  },
  {
   "cell_type": "code",
   "execution_count": 179,
   "metadata": {},
   "outputs": [],
   "source": [
    "from sklearn.metrics import mean_absolute_error, mean_squared_error, r2_score"
   ]
  },
  {
   "cell_type": "code",
   "execution_count": 187,
   "metadata": {},
   "outputs": [
    {
     "name": "stderr",
     "output_type": "stream",
     "text": [
      "INFO:root:Calculating various metrics\n",
      "INFO:root:MAE=0.680, MSE=0.779, R²=0.222\n"
     ]
    }
   ],
   "source": [
    "logging.info(\"Calculating various metrics\")\n",
    "mae = mean_absolute_error(y_test, y_test_pred)\n",
    "mse = mean_squared_error(y_test, y_test_pred)\n",
    "r2 = r2_score(y_test, y_test_pred)\n",
    "\n",
    "logging.info(f\"MAE={mae:.3f}, MSE={mse:.3f}, R²={r2:.3f}\")"
   ]
  },
  {
   "cell_type": "code",
   "execution_count": 188,
   "metadata": {},
   "outputs": [],
   "source": [
    "import json"
   ]
  },
  {
   "cell_type": "code",
   "execution_count": 195,
   "metadata": {},
   "outputs": [
    {
     "data": {
      "text/plain": [
       "94"
      ]
     },
     "execution_count": 195,
     "metadata": {},
     "output_type": "execute_result"
    }
   ],
   "source": [
    "OUTPUT_METRIC_FILE.write_text(\n",
    "    json.dumps({\n",
    "        \"mae\": mae,\n",
    "        \"mse\": mse,\n",
    "        \"r2\": r2\n",
    "    }, \n",
    "    indent=4)\n",
    ")"
   ]
  }
 ],
 "metadata": {
  "kernelspec": {
   "display_name": "env",
   "language": "python",
   "name": "python3"
  },
  "language_info": {
   "codemirror_mode": {
    "name": "ipython",
    "version": 3
   },
   "file_extension": ".py",
   "mimetype": "text/x-python",
   "name": "python",
   "nbconvert_exporter": "python",
   "pygments_lexer": "ipython3",
   "version": "3.8.10"
  }
 },
 "nbformat": 4,
 "nbformat_minor": 2
}
